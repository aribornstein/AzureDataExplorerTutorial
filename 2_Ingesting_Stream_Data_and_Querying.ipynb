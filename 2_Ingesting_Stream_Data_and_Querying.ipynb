{
  "cells": [
    {
      "metadata": {},
      "cell_type": "markdown",
      "source": "## 1. Get and Set Azure Credentials "
    },
    {
      "metadata": {
        "trusted": true
      },
      "cell_type": "code",
      "source": "!az login",
      "execution_count": null,
      "outputs": []
    },
    {
      "metadata": {
        "trusted": true
      },
      "cell_type": "code",
      "source": "!az ad sp create-for-rbac --sdk-auth > mycredentials.json",
      "execution_count": 2,
      "outputs": [
        {
          "output_type": "stream",
          "text": "\u001b[33mRetrying role assignment creation: 1/36\u001b[0m\n\u001b[33mRetrying role assignment creation: 2/36\u001b[0m\n",
          "name": "stdout"
        }
      ]
    },
    {
      "metadata": {
        "trusted": true
      },
      "cell_type": "code",
      "source": "import os, json\nwith open('mycredentials.json') as data_file:    \n    azure_session = json.load(data_file)\n# delete credentials file\nos.remove(\"mycredentials.json\")",
      "execution_count": 3,
      "outputs": []
    },
    {
      "metadata": {},
      "cell_type": "markdown",
      "source": "## 2. Create Azure Resource Manager Client"
    },
    {
      "metadata": {
        "trusted": true
      },
      "cell_type": "code",
      "source": "from azure.common.credentials import ServicePrincipalCredentials\nfrom azure.mgmt.resource import ResourceManagementClient\nfrom azure.mgmt.resource.resources.models import DeploymentMode",
      "execution_count": 4,
      "outputs": []
    },
    {
      "metadata": {
        "trusted": true
      },
      "cell_type": "code",
      "source": "credentials = ServicePrincipalCredentials(\n    client_id=azure_session[\"clientId\"],\n    secret=azure_session[\"clientSecret\"],\n    tenant=azure_session[\"tenantId\"]\n)\nclient = ResourceManagementClient(credentials, azure_session[\"subscriptionId\"])",
      "execution_count": 5,
      "outputs": []
    },
    {
      "metadata": {},
      "cell_type": "markdown",
      "source": "## 3. Resource Group Parameters"
    },
    {
      "metadata": {
        "trusted": true
      },
      "cell_type": "code",
      "source": "RESOURCE_GROUP_NAME = 'kustodeploymenttest' # Set resource group name here\nAZURE_REGION = 'East US' # Set region here\nlocation = ''.join(AZURE_REGION.split()).lower()",
      "execution_count": 6,
      "outputs": []
    },
    {
      "metadata": {},
      "cell_type": "markdown",
      "source": "## 4. Azure Data Explorer Cluster Parameters"
    },
    {
      "metadata": {
        "trusted": true
      },
      "cell_type": "code",
      "source": "CLUSTER_NAME = 'cdacluster'\nCLUSTER_NODE_SIZE = 'D13_v2'\nCLUSTER_NODE_TEIR = 'Standard'\nCLUSTER_NODE_CAPACITY = 2",
      "execution_count": 7,
      "outputs": []
    },
    {
      "metadata": {},
      "cell_type": "markdown",
      "source": "## 5. Set Azure Data Explorer DB Deployment Parameters"
    },
    {
      "metadata": {
        "trusted": true
      },
      "cell_type": "code",
      "source": "DB_NAME = 'cdadb'\nDB_SOFT_DELETION_PERIOD = 3650\nDB_HOT_CACHE_PERIOD = 31\nURI = \"https://{}.{}.kusto.windows.net:443\".format(CLUSTER_NAME, location)\nDATA_INGESTION_URI = \"https://ingest-{}.{}.kusto.windows.net:443/\".format(CLUSTER_NAME, location)",
      "execution_count": 8,
      "outputs": []
    },
    {
      "metadata": {},
      "cell_type": "markdown",
      "source": "## 6. Define Azure Data Explorer Deployment Template"
    },
    {
      "metadata": {
        "trusted": true
      },
      "cell_type": "code",
      "source": "template = {\\\n    \"$schema\": \"https://schema.management.azure.com/schemas/2015-01-01/deploymentTemplate.json#\",\n    \"contentVersion\": \"1.0.0.0\",\n    \"resources\": [\\\n        {\\\n            \"type\": \"Microsoft.Kusto/Clusters\",\n            \"sku\": {\\\n                \"name\": CLUSTER_NODE_SIZE,\n                \"tier\": CLUSTER_NODE_TEIR,\n                \"capacity\": CLUSTER_NODE_CAPACITY\n            },\n            \"name\": CLUSTER_NAME,\n            \"apiVersion\": \"2017-09-07-privatepreview\",\n            \"location\": AZURE_REGION,\n            \"properties\": {\\\n                \"trustedExternalTenants\": [\n                    {\n                        \"value\": azure_session[\"tenantId\"]\n                    }\n                ],                \n            }\n        },\n        {\\\n            \"type\": \"Microsoft.Kusto/Clusters/Databases\",\n            \"name\": \"{}/{}\".format(CLUSTER_NAME, DB_NAME),\n            \"apiVersion\": \"2017-09-07-privatepreview\",\n            \"location\": AZURE_REGION,\n            \"properties\": {\n                \"softDeletePeriodInDays\": DB_SOFT_DELETION_PERIOD,\n                \"hotCachePeriodInDays\": DB_HOT_CACHE_PERIOD,\n            },\n            \"dependsOn\": [\\\n                \"[resourceId('Microsoft.Kusto/Clusters', '{}')]\".format(CLUSTER_NAME)\n            ]\n        }\n    ]\n}",
      "execution_count": 9,
      "outputs": []
    },
    {
      "metadata": {
        "trusted": true
      },
      "cell_type": "code",
      "source": "deployment_properties = {\n    'mode': DeploymentMode.incremental,\n    'template': template,\n}",
      "execution_count": 10,
      "outputs": []
    },
    {
      "metadata": {},
      "cell_type": "markdown",
      "source": "## 7. Create Resource Group and Deploy \nNote this could take 10-15 min and is not necessary if you've run the last notebook"
    },
    {
      "metadata": {
        "trusted": true
      },
      "cell_type": "code",
      "source": "resource_group_params = {'location':location}\nclient.resource_groups.create_or_update('kustodeploymenttest', resource_group_params)\n\n# https://docs.microsoft.com/en-us/python/api/azure-mgmt-resource/azure.mgmt.resource.resources.v2018_05_01.operations.deploymentsoperations?view=azure-python#create-or-update\ndeployment_async_operation = client.deployments.create_or_update(\n    RESOURCE_GROUP_NAME,\n    'azure-sample',\n    deployment_properties\n)\ndeployment_async_operation.wait()",
      "execution_count": 13,
      "outputs": []
    },
    {
      "metadata": {},
      "cell_type": "markdown",
      "source": "## 8. Install Kusto Ingestion Libraries for Stream Ingestion"
    },
    {
      "metadata": {
        "trusted": true
      },
      "cell_type": "code",
      "source": "# Install Perquisite Libraries\n!pip install azure-kusto-data==0.0.13\n!pip install azure-kusto-ingest==0.0.13",
      "execution_count": 14,
      "outputs": [
        {
          "output_type": "stream",
          "text": "Requirement already satisfied: azure-kusto-data==0.0.13 in /home/nbuser/anaconda3_501/lib/python3.6/site-packages (0.0.13)\nRequirement already satisfied: python-dateutil>=2.6.0 in /home/nbuser/anaconda3_501/lib/python3.6/site-packages (from azure-kusto-data==0.0.13) (2.7.5)\nRequirement already satisfied: requests>=2.13.0 in /home/nbuser/anaconda3_501/lib/python3.6/site-packages (from azure-kusto-data==0.0.13) (2.21.0)\nRequirement already satisfied: adal>=1.0.0 in /home/nbuser/anaconda3_501/lib/python3.6/site-packages (from azure-kusto-data==0.0.13) (1.2.0)\nRequirement already satisfied: six>=1.10.0 in /home/nbuser/anaconda3_501/lib/python3.6/site-packages (from azure-kusto-data==0.0.13) (1.11.0)\nRequirement already satisfied: azure-nspkg>=2.0.0 in /home/nbuser/anaconda3_501/lib/python3.6/site-packages (from azure-kusto-data==0.0.13) (3.0.2)\nRequirement already satisfied: idna<2.9,>=2.5 in /home/nbuser/anaconda3_501/lib/python3.6/site-packages (from requests>=2.13.0->azure-kusto-data==0.0.13) (2.7)\nRequirement already satisfied: chardet<3.1.0,>=3.0.2 in /home/nbuser/anaconda3_501/lib/python3.6/site-packages (from requests>=2.13.0->azure-kusto-data==0.0.13) (3.0.4)\nRequirement already satisfied: urllib3<1.25,>=1.21.1 in /home/nbuser/anaconda3_501/lib/python3.6/site-packages (from requests>=2.13.0->azure-kusto-data==0.0.13) (1.23)\nRequirement already satisfied: certifi>=2017.4.17 in /home/nbuser/anaconda3_501/lib/python3.6/site-packages (from requests>=2.13.0->azure-kusto-data==0.0.13) (2018.10.15)\nRequirement already satisfied: cryptography>=1.1.0 in /home/nbuser/anaconda3_501/lib/python3.6/site-packages (from adal>=1.0.0->azure-kusto-data==0.0.13) (2.3.1)\nRequirement already satisfied: PyJWT>=1.0.0 in /home/nbuser/anaconda3_501/lib/python3.6/site-packages (from adal>=1.0.0->azure-kusto-data==0.0.13) (1.7.1)\nRequirement already satisfied: asn1crypto>=0.21.0 in /home/nbuser/anaconda3_501/lib/python3.6/site-packages (from cryptography>=1.1.0->adal>=1.0.0->azure-kusto-data==0.0.13) (0.24.0)\nRequirement already satisfied: cffi!=1.11.3,>=1.7 in /home/nbuser/anaconda3_501/lib/python3.6/site-packages (from cryptography>=1.1.0->adal>=1.0.0->azure-kusto-data==0.0.13) (1.11.5)\nRequirement already satisfied: pycparser in /home/nbuser/anaconda3_501/lib/python3.6/site-packages (from cffi!=1.11.3,>=1.7->cryptography>=1.1.0->adal>=1.0.0->azure-kusto-data==0.0.13) (2.19)\nRequirement already satisfied: azure-kusto-ingest==0.0.13 in /home/nbuser/anaconda3_501/lib/python3.6/site-packages (0.0.13)\nRequirement already satisfied: azure-storage-common>=1.1.0 in /home/nbuser/anaconda3_501/lib/python3.6/site-packages (from azure-kusto-ingest==0.0.13) (1.4.0)\nRequirement already satisfied: azure-nspkg>=2.0.0 in /home/nbuser/anaconda3_501/lib/python3.6/site-packages (from azure-kusto-ingest==0.0.13) (3.0.2)\nRequirement already satisfied: six>=1.10.0 in /home/nbuser/anaconda3_501/lib/python3.6/site-packages (from azure-kusto-ingest==0.0.13) (1.11.0)\nRequirement already satisfied: azure-kusto-data>=0.0.13 in /home/nbuser/anaconda3_501/lib/python3.6/site-packages (from azure-kusto-ingest==0.0.13) (0.0.13)\nRequirement already satisfied: azure-storage-blob>=1.1.0 in /home/nbuser/anaconda3_501/lib/python3.6/site-packages (from azure-kusto-ingest==0.0.13) (1.4.0)\nRequirement already satisfied: azure-storage-queue>=1.1.0 in /home/nbuser/anaconda3_501/lib/python3.6/site-packages (from azure-kusto-ingest==0.0.13) (1.4.0)\nRequirement already satisfied: azure-common>=1.1.5 in /home/nbuser/anaconda3_501/lib/python3.6/site-packages (from azure-storage-common>=1.1.0->azure-kusto-ingest==0.0.13) (1.1.16)\nRequirement already satisfied: requests in /home/nbuser/anaconda3_501/lib/python3.6/site-packages (from azure-storage-common>=1.1.0->azure-kusto-ingest==0.0.13) (2.21.0)\nRequirement already satisfied: python-dateutil in /home/nbuser/anaconda3_501/lib/python3.6/site-packages (from azure-storage-common>=1.1.0->azure-kusto-ingest==0.0.13) (2.7.5)\nRequirement already satisfied: cryptography in /home/nbuser/anaconda3_501/lib/python3.6/site-packages (from azure-storage-common>=1.1.0->azure-kusto-ingest==0.0.13) (2.3.1)\nRequirement already satisfied: adal>=1.0.0 in /home/nbuser/anaconda3_501/lib/python3.6/site-packages (from azure-kusto-data>=0.0.13->azure-kusto-ingest==0.0.13) (1.2.0)\nRequirement already satisfied: idna<2.9,>=2.5 in /home/nbuser/anaconda3_501/lib/python3.6/site-packages (from requests->azure-storage-common>=1.1.0->azure-kusto-ingest==0.0.13) (2.7)\nRequirement already satisfied: chardet<3.1.0,>=3.0.2 in /home/nbuser/anaconda3_501/lib/python3.6/site-packages (from requests->azure-storage-common>=1.1.0->azure-kusto-ingest==0.0.13) (3.0.4)\nRequirement already satisfied: urllib3<1.25,>=1.21.1 in /home/nbuser/anaconda3_501/lib/python3.6/site-packages (from requests->azure-storage-common>=1.1.0->azure-kusto-ingest==0.0.13) (1.23)\nRequirement already satisfied: certifi>=2017.4.17 in /home/nbuser/anaconda3_501/lib/python3.6/site-packages (from requests->azure-storage-common>=1.1.0->azure-kusto-ingest==0.0.13) (2018.10.15)\nRequirement already satisfied: asn1crypto>=0.21.0 in /home/nbuser/anaconda3_501/lib/python3.6/site-packages (from cryptography->azure-storage-common>=1.1.0->azure-kusto-ingest==0.0.13) (0.24.0)\nRequirement already satisfied: cffi!=1.11.3,>=1.7 in /home/nbuser/anaconda3_501/lib/python3.6/site-packages (from cryptography->azure-storage-common>=1.1.0->azure-kusto-ingest==0.0.13) (1.11.5)\nRequirement already satisfied: PyJWT>=1.0.0 in /home/nbuser/anaconda3_501/lib/python3.6/site-packages (from adal>=1.0.0->azure-kusto-data>=0.0.13->azure-kusto-ingest==0.0.13) (1.7.1)\nRequirement already satisfied: pycparser in /home/nbuser/anaconda3_501/lib/python3.6/site-packages (from cffi!=1.11.3,>=1.7->cryptography->azure-storage-common>=1.1.0->azure-kusto-ingest==0.0.13) (2.19)\n",
          "name": "stdout"
        }
      ]
    },
    {
      "metadata": {},
      "cell_type": "markdown",
      "source": "## 9. Create Kusto Client"
    },
    {
      "metadata": {
        "trusted": true
      },
      "cell_type": "code",
      "source": "from azure.kusto.data.request import KustoClient, KustoConnectionStringBuilder\nfrom azure.kusto.data.exceptions import KustoServiceError\nfrom azure.kusto.data.helpers import dataframe_from_result_table\nimport pandas as pd\nimport datetime",
      "execution_count": 15,
      "outputs": []
    },
    {
      "metadata": {
        "trusted": true
      },
      "cell_type": "code",
      "source": "KCSB_ENGINE = KustoConnectionStringBuilder.with_aad_application_key_authentication(URI,\n                                                                            azure_session[\"clientId\"],\n                                                                            azure_session[\"clientSecret\"],\n                                                                            azure_session[\"tenantId\"])",
      "execution_count": 16,
      "outputs": []
    },
    {
      "metadata": {
        "trusted": true
      },
      "cell_type": "code",
      "source": "KUSTO_CLIENT = KustoClient(KCSB_ENGINE)",
      "execution_count": 17,
      "outputs": []
    },
    {
      "metadata": {},
      "cell_type": "markdown",
      "source": "## 10. Create a Table Called Github Event to hold our data "
    },
    {
      "metadata": {
        "trusted": true
      },
      "cell_type": "code",
      "source": "CREATE_TABLE_COMMAND = \".create table GithubEvent ( Id:int64, Type: string, Actor: dynamic, Repo: dynamic, Payload: dynamic, Public:bool, CreatedAt: datetime)\"\nRESPONSE = KUSTO_CLIENT.execute_mgmt(DB_NAME, CREATE_TABLE_COMMAND)\ndataframe_from_result_table(RESPONSE.primary_results[0])",
      "execution_count": 18,
      "outputs": [
        {
          "output_type": "execute_result",
          "execution_count": 18,
          "data": {
            "text/html": "<div>\n<style scoped>\n    .dataframe tbody tr th:only-of-type {\n        vertical-align: middle;\n    }\n\n    .dataframe tbody tr th {\n        vertical-align: top;\n    }\n\n    .dataframe thead th {\n        text-align: right;\n    }\n</style>\n<table border=\"1\" class=\"dataframe\">\n  <thead>\n    <tr style=\"text-align: right;\">\n      <th></th>\n      <th>TableName</th>\n      <th>Schema</th>\n      <th>DatabaseName</th>\n      <th>Folder</th>\n      <th>DocString</th>\n    </tr>\n  </thead>\n  <tbody>\n    <tr>\n      <th>0</th>\n      <td>GithubEvent</td>\n      <td>{\"Name\":\"GithubEvent\",\"OrderedColumns\":[{\"Name...</td>\n      <td>cdadb</td>\n      <td>None</td>\n      <td>None</td>\n    </tr>\n  </tbody>\n</table>\n</div>",
            "text/plain": "     TableName                                             Schema  \\\n0  GithubEvent  {\"Name\":\"GithubEvent\",\"OrderedColumns\":[{\"Name...   \n\n  DatabaseName Folder DocString  \n0        cdadb   None      None  "
          },
          "metadata": {}
        }
      ]
    },
    {
      "metadata": {},
      "cell_type": "markdown",
      "source": "## 11. Create ingestion Mapping from for ingesting events from EventHub"
    },
    {
      "metadata": {
        "trusted": true
      },
      "cell_type": "code",
      "source": "CREATE_MAPPING_COMMAND = \"\"\".create table GithubEvent ingestion json mapping \"GitMapping\" '[{\"column\":\"Id\",\"path\":\"$.id\"},{\"column\":\"Type\",\"path\":\"$.type\"},{\"column\":\"Actor\",\"path\":\"$.actor\"},{\"column\":\"Repo\",\"path\":\"$.repo\"},{\"column\":\"Payload\",\"path\":\"$.payload\"},{\"column\":\"Public\",\"path\":\"$.public\"},{\"column\":\"CreatedAt\",\"path\":\"$.created_at\"}]'\"\"\"\n\nRESPONSE = KUSTO_CLIENT.execute_mgmt(DB_NAME, CREATE_MAPPING_COMMAND)\ndataframe_from_result_table(RESPONSE.primary_results[0])",
      "execution_count": 19,
      "outputs": [
        {
          "output_type": "execute_result",
          "execution_count": 19,
          "data": {
            "text/html": "<div>\n<style scoped>\n    .dataframe tbody tr th:only-of-type {\n        vertical-align: middle;\n    }\n\n    .dataframe tbody tr th {\n        vertical-align: top;\n    }\n\n    .dataframe thead th {\n        text-align: right;\n    }\n</style>\n<table border=\"1\" class=\"dataframe\">\n  <thead>\n    <tr style=\"text-align: right;\">\n      <th></th>\n      <th>Name</th>\n      <th>Kind</th>\n      <th>Mapping</th>\n      <th>LastUpdatedOn</th>\n      <th>Database</th>\n      <th>Table</th>\n    </tr>\n  </thead>\n  <tbody>\n    <tr>\n      <th>0</th>\n      <td>GitMapping</td>\n      <td>JSON</td>\n      <td>[{\"column\":\"Id\",\"path\":\"$.id\",\"datatype\":null,...</td>\n      <td>2019-01-19 18:45:36.824973600</td>\n      <td>cdadb</td>\n      <td>GithubEvent</td>\n    </tr>\n  </tbody>\n</table>\n</div>",
            "text/plain": "         Name  Kind                                            Mapping  \\\n0  GitMapping  JSON  [{\"column\":\"Id\",\"path\":\"$.id\",\"datatype\":null,...   \n\n                  LastUpdatedOn Database        Table  \n0 2019-01-19 18:45:36.824973600    cdadb  GithubEvent  "
          },
          "metadata": {}
        }
      ]
    },
    {
      "metadata": {},
      "cell_type": "markdown",
      "source": "## 11. Create  Event Hub using the Azure CLI to Ingest All Github Events"
    },
    {
      "metadata": {
        "trusted": true
      },
      "cell_type": "code",
      "source": "# Create an Event Hubs namespace. Specify a name for the Event Hubs namespace.\n!az eventhubs namespace create --name 'kusto-github-EHNS' --resource-group 'kustodeploymenttest' -l 'East US'",
      "execution_count": null,
      "outputs": []
    },
    {
      "metadata": {
        "trusted": true
      },
      "cell_type": "code",
      "source": "# Create an event hub. Specify a name for the event hub. \n!az eventhubs eventhub create --name 'kusto-github-EH' --resource-group 'kustodeploymenttest' --namespace-name 'kusto-github-EHNS'",
      "execution_count": null,
      "outputs": []
    },
    {
      "metadata": {},
      "cell_type": "markdown",
      "source": "### Create a EH User and Key for Github Ingestion"
    },
    {
      "metadata": {
        "trusted": true
      },
      "cell_type": "code",
      "source": "!az eventhubs eventhub authorization-rule create --eventhub-name 'kusto-github-EH'\\\n                                                --name 'kusto-github-EH-key'\\\n                                                --namespace-name 'kusto-github-EHNS'\\\n                                                --resource-group 'kustodeploymenttest'\\\n                                                --rights 'Send'",
      "execution_count": null,
      "outputs": []
    },
    {
      "metadata": {},
      "cell_type": "markdown",
      "source": "## 12. Use ARM to link the new EventHub with our Cluster"
    },
    {
      "metadata": {
        "trusted": true
      },
      "cell_type": "code",
      "source": "template = { \\\n    \"$schema\": \"https://schema.management.azure.com/schemas/2015-01-01/deploymentTemplate.json#\",\n    \"contentVersion\": \"1.0.0.0\",\n    \"resources\": [\n        {  \n            \"type\":\"Microsoft.Kusto/clusters/databases/eventhubconnections\",\n            \"name\":\"{}/{}/{}\".format(CLUSTER_NAME, DB_NAME, 'github'),\n            \"apiVersion\":\"2018-09-07-preview\",\n            \"location\": AZURE_REGION,\n            \"properties\":{  \n                \"consumerGroup\":\"$Default\",                \n                \"eventHubResourceId\":\"[resourceId('Microsoft.EventHub/namespaces/eventhubs', 'kusto-github-EHNS', 'kusto-github-EH')]\",\n                \"tableName\":\"GithubEvent\",\n                \"mappingRuleName\":\"GitMapping\",\n                \"dataFormat\":\"JSON\"\n            }\n        }\n    ]\n}\n\ndeployment_properties = {\n    'mode': DeploymentMode.incremental,\n    'template': template,\n}\n\n# https://docs.microsoft.com/en-us/python/api/azure-mgmt-resource/azure.mgmt.resource.resources.v2018_05_01.operations.deploymentsoperations?view=azure-python#create-or-update\ndeployment_async_operation = client.deployments.create_or_update(\n    RESOURCE_GROUP_NAME,\n    'azure-sample',\n    deployment_properties\n)\ndeployment_async_operation.wait()",
      "execution_count": 31,
      "outputs": []
    },
    {
      "metadata": {},
      "cell_type": "markdown",
      "source": "## 13. Use the Azure CLI to create an container instance to ingest all the github events into our EventHub \n\nYou'll need a github developer token you can get one for free from using [these instructions](https://github.blog/2013-05-16-personal-api-tokens/)."
    },
    {
      "metadata": {},
      "cell_type": "markdown",
      "source": "### Get EH Key"
    },
    {
      "metadata": {
        "trusted": true
      },
      "cell_type": "code",
      "source": "!az eventhubs eventhub authorization-rule keys list --resource-group 'kustodeploymenttest' --namespace-name 'kusto-github-EHNS' --eventhub-name 'kusto-github-EH' --name 'kusto-github-EH-key'",
      "execution_count": null,
      "outputs": []
    },
    {
      "metadata": {},
      "cell_type": "markdown",
      "source": "### Run CLI Command\nTo get the from github to eventhub I've created the following python ingestion scripts that run on alpine docker checkout the code [here](https://github.com/aribornstein/github2eventhub) this can be reused new projects. "
    },
    {
      "metadata": {
        "trusted": true
      },
      "cell_type": "code",
      "source": "!az container create -g kustodeploymenttest --name gh2eh --image abornst/gh2eh --cpu 1 --memory 1 \\\n--environment-variables \"eh_address\"=\"amqps://kusto-github-EHNS.servicebus.windows.net/kusto-github-EH\"\\\n                        \"eh_user\"=\"kusto-github-EH-key\" \"eh_key\"=\"primaryKey see above\" \\\n                        \"gh_token\"=\"GitHub Token See instructions above\" ",
      "execution_count": null,
      "outputs": []
    },
    {
      "metadata": {},
      "cell_type": "markdown",
      "source": "## 14. Lets start seeing how many events we've pulled from Github let's give it ~5-20min to populate"
    },
    {
      "metadata": {
        "trusted": true
      },
      "cell_type": "code",
      "source": "QUERY = \"GithubEvent | count\"\n\nRESPONSE = KUSTO_CLIENT.execute_query(DB_NAME, QUERY)\n\ndataframe_from_result_table(RESPONSE.primary_results[0])",
      "execution_count": 165,
      "outputs": [
        {
          "output_type": "execute_result",
          "execution_count": 165,
          "data": {
            "text/html": "<div>\n<style scoped>\n    .dataframe tbody tr th:only-of-type {\n        vertical-align: middle;\n    }\n\n    .dataframe tbody tr th {\n        vertical-align: top;\n    }\n\n    .dataframe thead th {\n        text-align: right;\n    }\n</style>\n<table border=\"1\" class=\"dataframe\">\n  <thead>\n    <tr style=\"text-align: right;\">\n      <th></th>\n      <th>Count</th>\n    </tr>\n  </thead>\n  <tbody>\n    <tr>\n      <th>0</th>\n      <td>472381</td>\n    </tr>\n  </tbody>\n</table>\n</div>",
            "text/plain": "    Count\n0  472381"
          },
          "metadata": {}
        }
      ]
    },
    {
      "metadata": {},
      "cell_type": "markdown",
      "source": "## 15. Now That we have our Data Let's try some interesting queries and use pandas and matplotlib to plot them.\n\n### What are the 5 most popular Repos on Github?"
    },
    {
      "metadata": {
        "trusted": true
      },
      "cell_type": "code",
      "source": "QUERY = \"\"\"let watchedRepos =  \n    GithubEvent \n    | where Type == \"WatchEvent\"\n    | extend RepoName = tostring(Repo.name)\n    | summarize hint.shufflekey=RepoName WatchEvents=count() by RepoName;\nlet issuesRepos =  \n    GithubEvent\n    | where Type in (\"IssueCommentEvent\", \"IssuesEvent\")\n    | extend RepoName = tostring(Repo.name)\n    | summarize hint.shufflekey=RepoName IssueEvents=count() by RepoName;\nwatchedRepos\n| join hint.shufflekey=RepoName (issuesRepos) on RepoName\n| extend Popularity=(WatchEvents * 0.3) + (IssueEvents*0.7) \n| top 5 by Popularity \n| project RepoName, Popularity \"\"\"",
      "execution_count": 157,
      "outputs": []
    },
    {
      "metadata": {
        "trusted": true
      },
      "cell_type": "code",
      "source": "RESPONSE = KUSTO_CLIENT.execute_query(DB_NAME, QUERY)\ndataframe_from_result_table(RESPONSE.primary_results[0]).plot.bar(x='RepoName')",
      "execution_count": 158,
      "outputs": [
        {
          "output_type": "execute_result",
          "execution_count": 158,
          "data": {
            "text/plain": "<matplotlib.axes._subplots.AxesSubplot at 0x7eff9a9cfc50>"
          },
          "metadata": {}
        },
        {
          "output_type": "display_data",
          "data": {
            "image/png": "[encoded data removed]",
            "text/plain": "<Figure size 432x288 with 1 Axes>"
          },
          "metadata": {
            "needs_background": "light"
          }
        }
      ]
    },
    {
      "metadata": {},
      "cell_type": "markdown",
      "source": "# Challenge \nUse the service and [query langauge](https://docs.microsoft.com/azure/kusto/query/?WT.mc_id=code-github-abornst) to find the following and tweet your results to @pythiccoder\n\n- What are the most popular programming langauges of the last year (by watch events)?\n- What is the sentiment over time of the top 10 programming languages on Github?\n- Who are the top most active users by country? \n- Who are the github users with the most contributions to the top 50 most popular repos?\n"
    },
    {
      "metadata": {
        "trusted": true
      },
      "cell_type": "code",
      "source": "",
      "execution_count": null,
      "outputs": []
    }
  ],
  "metadata": {
    "kernelspec": {
      "name": "python36",
      "display_name": "Python 3.6",
      "language": "python"
    },
    "language_info": {
      "mimetype": "text/x-python",
      "nbconvert_exporter": "python",
      "name": "python",
      "pygments_lexer": "ipython3",
      "version": "3.6.6",
      "file_extension": ".py",
      "codemirror_mode": {
        "version": 3,
        "name": "ipython"
      }
    }
  },
  "nbformat": 4,
  "nbformat_minor": 2
}